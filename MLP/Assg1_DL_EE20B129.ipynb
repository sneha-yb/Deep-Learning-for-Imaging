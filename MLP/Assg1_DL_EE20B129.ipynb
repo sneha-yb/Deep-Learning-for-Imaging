{
  "nbformat": 4,
  "nbformat_minor": 0,
  "metadata": {
    "colab": {
      "provenance": [],
      "toc_visible": true
    },
    "kernelspec": {
      "name": "python3",
      "display_name": "Python 3"
    },
    "language_info": {
      "name": "python"
    }
  },
  "cells": [
    {
      "cell_type": "code",
      "execution_count": null,
      "metadata": {
        "id": "8dChCXAkyhsz"
      },
      "outputs": [],
      "source": [
        "#Import necessary libraries\n",
        "import numpy as np\n",
        "import matplotlib.pyplot as plt\n",
        "import os\n",
        "import torch\n",
        "import torchvision\n",
        "import torchvision.datasets as datasets\n",
        "from torchvision import transforms\n",
        "import tensorflow as tf\n",
        "from sklearn import preprocessing\n",
        "from sklearn.preprocessing import OneHotEncoder\n",
        "from sklearn.metrics import confusion_matrix\n"
      ]
    },
    {
      "cell_type": "markdown",
      "source": [
        "# New section"
      ],
      "metadata": {
        "id": "yR8eBSozyn-G"
      }
    },
    {
      "cell_type": "code",
      "source": [
        "#Import Dataset\n",
        "mnist_trainset= datasets.MNIST(root='./data', train=True, download=True, transform=None)\n",
        "mnist_testset = datasets.MNIST(root='./data', train=False, download=True, transform=None)\n",
        "X_train = mnist_trainset.data.view(-1, 1, 28, 28).float()\n",
        "y_train = mnist_trainset.targets\n",
        "X_test = mnist_testset.data.view(-1, 1, 28, 28).float()\n",
        "y_test = mnist_testset.targets"
      ],
      "metadata": {
        "id": "hOdLktX7y4_R",
        "colab": {
          "base_uri": "https://localhost:8080/"
        },
        "outputId": "38848e5e-3ff8-4b0f-9352-85a9bc516a79"
      },
      "execution_count": null,
      "outputs": [
        {
          "output_type": "stream",
          "name": "stdout",
          "text": [
            "Downloading http://yann.lecun.com/exdb/mnist/train-images-idx3-ubyte.gz\n",
            "Downloading http://yann.lecun.com/exdb/mnist/train-images-idx3-ubyte.gz to ./data/MNIST/raw/train-images-idx3-ubyte.gz\n"
          ]
        },
        {
          "output_type": "stream",
          "name": "stderr",
          "text": [
            "100%|██████████| 9912422/9912422 [00:00<00:00, 83738091.56it/s]\n"
          ]
        },
        {
          "output_type": "stream",
          "name": "stdout",
          "text": [
            "Extracting ./data/MNIST/raw/train-images-idx3-ubyte.gz to ./data/MNIST/raw\n",
            "\n",
            "Downloading http://yann.lecun.com/exdb/mnist/train-labels-idx1-ubyte.gz\n",
            "Downloading http://yann.lecun.com/exdb/mnist/train-labels-idx1-ubyte.gz to ./data/MNIST/raw/train-labels-idx1-ubyte.gz\n"
          ]
        },
        {
          "output_type": "stream",
          "name": "stderr",
          "text": [
            "100%|██████████| 28881/28881 [00:00<00:00, 77800702.52it/s]"
          ]
        },
        {
          "output_type": "stream",
          "name": "stdout",
          "text": [
            "Extracting ./data/MNIST/raw/train-labels-idx1-ubyte.gz to ./data/MNIST/raw\n",
            "\n",
            "Downloading http://yann.lecun.com/exdb/mnist/t10k-images-idx3-ubyte.gz\n"
          ]
        },
        {
          "output_type": "stream",
          "name": "stderr",
          "text": [
            "\n"
          ]
        },
        {
          "output_type": "stream",
          "name": "stdout",
          "text": [
            "Downloading http://yann.lecun.com/exdb/mnist/t10k-images-idx3-ubyte.gz to ./data/MNIST/raw/t10k-images-idx3-ubyte.gz\n"
          ]
        },
        {
          "output_type": "stream",
          "name": "stderr",
          "text": [
            "100%|██████████| 1648877/1648877 [00:00<00:00, 31858575.35it/s]\n"
          ]
        },
        {
          "output_type": "stream",
          "name": "stdout",
          "text": [
            "Extracting ./data/MNIST/raw/t10k-images-idx3-ubyte.gz to ./data/MNIST/raw\n",
            "\n",
            "Downloading http://yann.lecun.com/exdb/mnist/t10k-labels-idx1-ubyte.gz\n",
            "Downloading http://yann.lecun.com/exdb/mnist/t10k-labels-idx1-ubyte.gz to ./data/MNIST/raw/t10k-labels-idx1-ubyte.gz\n"
          ]
        },
        {
          "output_type": "stream",
          "name": "stderr",
          "text": [
            "100%|██████████| 4542/4542 [00:00<00:00, 17771015.64it/s]"
          ]
        },
        {
          "output_type": "stream",
          "name": "stdout",
          "text": [
            "Extracting ./data/MNIST/raw/t10k-labels-idx1-ubyte.gz to ./data/MNIST/raw\n",
            "\n"
          ]
        },
        {
          "output_type": "stream",
          "name": "stderr",
          "text": [
            "\n"
          ]
        }
      ]
    },
    {
      "cell_type": "code",
      "source": [
        "#Checking number of test and training dataset\n",
        "# print(mnist_trainset.shape)\n",
        "print(len(mnist_testset))"
      ],
      "metadata": {
        "colab": {
          "base_uri": "https://localhost:8080/"
        },
        "id": "KQ-9tj9lzHN2",
        "outputId": "6b8e764f-fa7c-4796-ef6f-5412faef7817"
      },
      "execution_count": null,
      "outputs": [
        {
          "output_type": "stream",
          "name": "stdout",
          "text": [
            "10000\n"
          ]
        }
      ]
    },
    {
      "cell_type": "code",
      "source": [
        "#Normalization\n",
        "X_train = X_train/X_train.max()\n",
        "X_test = X_test/X_test.max()"
      ],
      "metadata": {
        "id": "RigZg2k9zbuw"
      },
      "execution_count": null,
      "outputs": []
    },
    {
      "cell_type": "code",
      "source": [
        "#OneHot Encoding\n",
        "print(y_train.shape)\n",
        "y_train = y_train.reshape(-1, 1)\n",
        "y_test = y_test.reshape(-1, 1)\n",
        "print(y_train.shape)\n",
        "#Define the One-hot Encoder\n",
        "ohe = preprocessing.OneHotEncoder()\n",
        "# Fit and transform training data\n",
        "ohe.fit(y_train)\n",
        "y_train = ohe.transform(y_train).toarray()\n",
        "\n",
        "# Fit and transform testing data\n",
        "ohe.fit(y_test)\n",
        "y_test = ohe.transform(y_test).toarray()\n",
        "\n",
        "# Print results\n",
        "print('y shape',y_train.shape)\n",
        "print(f'Value with encoding: {y_test[1]}')"
      ],
      "metadata": {
        "colab": {
          "base_uri": "https://localhost:8080/"
        },
        "id": "gO3K_6d_zrWo",
        "outputId": "62e0ff16-6465-4fe3-8b77-e5562aa29a4d"
      },
      "execution_count": null,
      "outputs": [
        {
          "output_type": "stream",
          "name": "stdout",
          "text": [
            "torch.Size([60000])\n",
            "torch.Size([60000, 1])\n",
            "y shape (60000, 10)\n",
            "Value with encoding: [0. 0. 1. 0. 0. 0. 0. 0. 0. 0.]\n"
          ]
        }
      ]
    },
    {
      "cell_type": "code",
      "source": [
        "#Image Visualization\n",
        "num_images = 5\n",
        "fig,axes = plt.subplots(1,num_images,figsize=(15,10))\n",
        "for image,label,ax in zip(X_train[:num_images],y_train[:num_images],axes):\n",
        "    ax.imshow(image.reshape(28,28),cmap='gray',vmin=0,vmax=1.0)\n",
        "    ax.set_title(f\"Label: {label}\")"
      ],
      "metadata": {
        "colab": {
          "base_uri": "https://localhost:8080/",
          "height": 281
        },
        "id": "ca74hVerzwvV",
        "outputId": "bdf1c5cb-1eee-4354-d5e7-c03c96c0b11a"
      },
      "execution_count": null,
      "outputs": [
        {
          "output_type": "display_data",
          "data": {
            "text/plain": [
              "<Figure size 1500x1000 with 5 Axes>"
            ],
            "image/png": "[encoded data removed]"
          },
          "metadata": {}
        }
      ]
    },
    {
      "cell_type": "code",
      "source": [
        "# Flatten the training and testing data\n",
        "X_train = X_train.reshape(X_train.shape[0], -1)\n",
        "X_test = X_test.reshape(X_test.shape[0], -1)\n",
        "\n",
        "# Printing the shapes to verify\n",
        "print(\"Flattened Training Data Shape:\", X_train.shape)\n",
        "print(\"Flattened Testing Data Shape:\", X_test.shape)"
      ],
      "metadata": {
        "colab": {
          "base_uri": "https://localhost:8080/"
        },
        "id": "dTC75S_r0Sro",
        "outputId": "397bfd8e-c697-4747-a7d7-9c1aa166664c"
      },
      "execution_count": null,
      "outputs": [
        {
          "output_type": "stream",
          "name": "stdout",
          "text": [
            "Flattened Training Data Shape: torch.Size([60000, 784])\n",
            "Flattened Testing Data Shape: torch.Size([10000, 784])\n"
          ]
        }
      ]
    },
    {
      "cell_type": "markdown",
      "source": [
        "Defining a function which returns the activation function of our choice."
      ],
      "metadata": {
        "id": "W7hlxpvGhvz6"
      }
    },
    {
      "cell_type": "code",
      "source": [
        "def function(x,funct_name):\n",
        "  if funct_name == 'sigmoid':\n",
        "    return 1 / (1 + np.exp(-x))\n",
        "  elif funct_name == 'tanh':\n",
        "    return np.tanh(x)\n",
        "  else :\n",
        "    return np.maximum(0, x)\n"
      ],
      "metadata": {
        "id": "SZBlrrRIxkgb"
      },
      "execution_count": null,
      "outputs": []
    },
    {
      "cell_type": "markdown",
      "source": [
        "Derivative of the function of our choice"
      ],
      "metadata": {
        "id": "oTUlRiAGiBFq"
      }
    },
    {
      "cell_type": "code",
      "source": [
        "def derivative(x,funct_name):\n",
        "  if funct_name == 'sigmoid':\n",
        "    return x * (1 - x)\n",
        "  elif funct_name == 'tanh':\n",
        "    return 1 - np.tanh(x)**2\n",
        "  else :\n",
        "    return np.where(x > 0, 1, 0)\n"
      ],
      "metadata": {
        "id": "zLQ_Lt8lyFpn"
      },
      "execution_count": null,
      "outputs": []
    },
    {
      "cell_type": "code",
      "source": [
        "#Defining softmax activation\n",
        "def softmax(x):\n",
        "    exp_x = np.exp(x - np.max(x, axis=1, keepdims=True))  # For numerical stability\n",
        "    return exp_x / exp_x.sum(axis=1, keepdims=True)\n",
        "    #return np.exp(x) / np.sum(np.exp(x))"
      ],
      "metadata": {
        "id": "FR-GLCxr1B_b"
      },
      "execution_count": null,
      "outputs": []
    },
    {
      "cell_type": "code",
      "source": [
        "def weight(n_input,n_output,function_name):\n",
        "  if function_name == 'Glorot':\n",
        "    M=np.sqrt(6/(n_input + n_output))\n",
        "    weights = np.random.uniform(-M, M, size=(n_input, n_output))\n",
        "  elif function_name == 'random':\n",
        "    weights = np.random.randn(n_input,n_output)\n",
        "  else:\n",
        "    weights = np.zeros((n_input,n_output))\n",
        "  return weights"
      ],
      "metadata": {
        "id": "3rzmIGIbmmuM"
      },
      "execution_count": null,
      "outputs": []
    },
    {
      "cell_type": "code",
      "source": [
        "\n",
        "from random import seed\n",
        "from random import random\n",
        "\n",
        "class MLP:\n",
        "\n",
        "  def __init__(self,input_size=784,layers=[500,250,100],output=10,learning_rate = 0.01,function_name='sigmoid',initialization='Glorot'):\n",
        "    np.random.seed(0)\n",
        "    layer ={}\n",
        "    layer['w1'] = weight(input_size,layers[0], initialization )\n",
        "    layer['w2'] = weight(layers[0],layers[1] ,initialization)\n",
        "    layer['w3'] = weight(layers[1],layers[2] , initialization )\n",
        "    layer['w4'] = weight(layers[2],output , initialization)\n",
        "\n",
        "    layer['b1'] = np.zeros((1,layers[0]))\n",
        "    layer['b2'] = np.zeros((1,layers[1]))\n",
        "    layer['b3'] = np.zeros((1,layers[2]))\n",
        "    layer['b4'] = np.zeros((1,10))\n",
        "    print(layer['b1'].shape)\n",
        "\n",
        "    self.initialization = initialization\n",
        "    self.function_name = function_name\n",
        "    self.learning_rate = learning_rate\n",
        "    self.layer = layer\n",
        "    self.activations = None\n",
        "    self.loss = None\n",
        "    self.input_size = input_size\n",
        "    self.y_actual = None\n",
        "    self.y = None\n",
        "    self.deltas = None\n",
        "    self.y_one_hot = None\n",
        "    self.alpha = 0\n",
        "\n",
        "  def forward_prop(self,input):\n",
        "    z1 = np.dot(input, self.layer['w1']) + self.layer['b1']\n",
        "    a1 = function(z1,self.function_name)\n",
        "\n",
        "    z2 = np.dot(a1,self.layer['w2']) + self.layer['b2']\n",
        "    a2 = function(z2,self.function_name)\n",
        "\n",
        "    z3 = np.dot(a2,self.layer['w3']) + self.layer['b3']\n",
        "    a3 = function(z3,self.function_name)\n",
        "\n",
        "    z4 = np.dot(a3, self.layer['w4']) + self.layer['b4']\n",
        "    y = softmax(z4)\n",
        "\n",
        "    self.activations = [a1,a2,a3]\n",
        "    self.y = y\n",
        "    self.input = input\n",
        "\n",
        "    return y\n",
        "\n",
        "  def cal_loss(self,y_actual,y_pred):\n",
        "\n",
        "    #  calculating the cross entropy loss function\n",
        "    eps = 1e-15\n",
        "    pred = np.clip(self.y, eps, 1 - eps)\n",
        "    cross_entropy_loss = -np.sum(y_actual * np.log(pred)) / len(self.y)\n",
        "\n",
        "    self.y_actual = y_actual\n",
        "    self.loss = cross_entropy_loss\n",
        "    self.y_one_hot = y_pred\n",
        "\n",
        "    return cross_entropy_loss\n",
        "\n",
        "  def accuracy(self):\n",
        "    count = 0\n",
        "    for i in range(len(self.y_one_hot)):\n",
        "      y_actual_np = self.y_actual[i].numpy()\n",
        "      if (self.y_one_hot[i] == y_actual_np).all():\n",
        "        count += 1\n",
        "\n",
        "    acc = count / len(self.y_one_hot)\n",
        "\n",
        "    return count\n",
        "\n",
        "  def backwardpass(self):\n",
        "\n",
        "    delta5 = (self.y - np.array(self.y_actual))\n",
        "    delta4 = (np.dot(delta5, self.layer['w4'].T) * derivative(self.activations[2],self.function_name))\n",
        "    delta3 = (np.dot(delta4, self.layer['w3'].T) * derivative(self.activations[1],self.function_name))\n",
        "    delta2 = (np.dot(delta3, self.layer['w2'].T) * derivative(self.activations[0],self.function_name))\n",
        "    self.deltas = [delta2,delta3,delta4,delta5]\n",
        "\n",
        "  def update_w_b(self):\n",
        "\n",
        "    self.layer['w4'] = self.layer['w4'] - (self.learning_rate*(np.dot(self.activations[2].T, self.deltas[3])/len(self.y_actual) + (self.alpha * self.layer['w4'])/len(self.y_actual)))\n",
        "    self.layer['w3'] = self.layer['w3'] - (self.learning_rate*(np.dot( self.activations[1].T, self.deltas[2])/len(self.y_actual) + (self.alpha * self.layer['w3'])/len(self.y_actual)))\n",
        "    self.layer['w2'] = self.layer['w2'] - (self.learning_rate*(np.dot( self.activations[0].T,self.deltas[1])/len(self.y_actual) + (self.alpha * self.layer['w2'])/len(self.y_actual)))\n",
        "    self.layer['w1'] = self.layer['w1'] - (self.learning_rate*(np.dot( self.input.T, self.deltas[0])/len(self.y_actual) + (self.alpha * self.layer['w1'])/len(self.y_actual)))\n",
        "\n",
        "    self.layer['b4'] = self.layer['b4'] - (self.learning_rate*np.sum(self.deltas[3], axis=0, keepdims=True))/len(self.y_actual)\n",
        "    self.layer['b3'] = self.layer['b3'] - (self.learning_rate*np.sum(self.deltas[2], axis=0, keepdims=True))/len(self.y_actual)\n",
        "    self.layer['b2'] = self.layer['b2'] - (self.learning_rate*np.sum(self.deltas[1], axis=0, keepdims=True))/len(self.y_actual)\n",
        "    self.layer['b1'] = self.layer['b1'] - (self.learning_rate*np.sum(self.deltas[0], axis=0, keepdims=True))/len(self.y_actual)\n",
        "\n",
        "\n",
        "\n"
      ],
      "metadata": {
        "id": "82RZGJY4l2ie"
      },
      "execution_count": null,
      "outputs": []
    },
    {
      "cell_type": "code",
      "source": [
        "\n",
        "\n",
        "\n",
        "\n",
        "def one_hot_encode(y):\n",
        "  y_oht = np.zeros((y.shape[0],y.shape[1]))\n",
        "\n",
        "  for i in range(y.shape[0]):\n",
        "    # print(i)\n",
        "    y_oht_temp = np.zeros(y.shape[1])\n",
        "    # print(y_oht_temp.shape)\n",
        "    max_index = np.argmax(y[i])\n",
        "    y_oht_temp[max_index] = 1\n",
        "    y_oht[i]= y_oht_temp\n",
        "  # print(\"yoht\",y_oht)\n",
        "  return y_oht\n",
        "\n",
        "\n"
      ],
      "metadata": {
        "id": "dAQ6x_r0mZQB"
      },
      "execution_count": null,
      "outputs": []
    },
    {
      "cell_type": "code",
      "source": [
        "\n",
        "epochs =  15\n",
        "\n",
        "mlp = MLP()\n",
        "train_loss = []\n",
        "test_loss=[]\n",
        "count = 0\n",
        "batch_size = 64\n",
        "# for epoch in range(epochs):\n",
        "#   for images, labels in train_dataset:\n",
        "#     mlp.forward_prop(images)\n",
        "#     train_loss.append(mlp.cal_loss(labels))\n",
        "#     mlp.backwardpass()\n",
        "#     mlp.update_w_b()\n",
        "\n",
        "for epoch in range(epochs):\n",
        "  iteration = 0\n",
        "  for i in range(0,len(X_train),batch_size):\n",
        "    x_batch = X_train[i:i+batch_size]\n",
        "    y_batch = y_train[i:i+batch_size]\n",
        "  # for images, labels in train_dataset:\n",
        "\n",
        "    output = mlp.forward_prop(x_batch)\n",
        "    output_hot = one_hot_encode(output)\n",
        "\n",
        "    loss = mlp.cal_loss(y_batch,output_hot)\n",
        "    mlp.backwardpass()\n",
        "    mlp.update_w_b()\n",
        "\n",
        "    # count = count + mlp.accuracy()\n",
        "\n",
        "    if iteration % 200 == 0:\n",
        "      train_loss.append(mlp.cal_loss(y_batch,output_hot))\n",
        "\n",
        "    iteration += 1  # Increment the iteration count\n",
        "\n",
        "    # print(\"accuracy of batch % = \", (mlp.accuracy()/64)*100)\n",
        "  print(f\"Epoch {epoch + 1}/{epochs}, Loss: {loss:.4f}\")\n",
        "  # print(f'Accuracy: {(count * 100)/60000:.2f}%')\n",
        "\n",
        "\n",
        "# After training, plot the losses\n",
        "iterations = np.arange(0, len(train_loss) * 200, 200)  # X-axis values (iterations)\n",
        "\n",
        "# plt.figure(figsize=(10, 5))\n",
        "# plt.plot(iterations, test_loss)\n",
        "# plt.plot(np.arange(0, len(train_loss) * 200, 200), train_loss, label='Train Loss', linestyle='--')\n",
        "# plt.xlabel('Iterations')\n",
        "# plt.ylabel('Loss')\n",
        "# plt.legend()\n",
        "# plt.title('Loss vs number of iterations')\n",
        "# plt.show()\n",
        "\n",
        "def test(x):\n",
        "\n",
        "  output = mlp.forward_prop(x)\n",
        "  return np.argmax(output, axis=1)\n",
        "\n",
        "y_pred = test(X_train)\n",
        "accuracy = np.mean(np.argmax(y_train, axis=1) == y_pred)\n",
        "print(f\"Train Accuracy: {accuracy * 100:.2f}%\")\n",
        "\n",
        "confusion_matrix_result = confusion_matrix(np.argmax(y_train, axis=1), y_pred)\n",
        "print(confusion_matrix_result)\n",
        "\n",
        "\n",
        "\n",
        "\n",
        "\n",
        "\n",
        "\n",
        "\n",
        "\n"
      ],
      "metadata": {
        "colab": {
          "base_uri": "https://localhost:8080/"
        },
        "id": "0_s5f0Nyl2fi",
        "outputId": "ae0a3df4-26af-4f7c-cfcc-f7ba4d89f601"
      },
      "execution_count": null,
      "outputs": [
        {
          "output_type": "stream",
          "name": "stdout",
          "text": [
            "(1, 500)\n",
            "Epoch 1/15, Loss: 2.2993\n",
            "Epoch 2/15, Loss: 2.2862\n",
            "Epoch 3/15, Loss: 2.2678\n",
            "Epoch 4/15, Loss: 2.2371\n",
            "Epoch 5/15, Loss: 2.1771\n",
            "Epoch 6/15, Loss: 2.0428\n",
            "Epoch 7/15, Loss: 1.7921\n",
            "Epoch 8/15, Loss: 1.4800\n",
            "Epoch 9/15, Loss: 1.1984\n",
            "Epoch 10/15, Loss: 0.9664\n",
            "Epoch 11/15, Loss: 0.7839\n",
            "Epoch 12/15, Loss: 0.6550\n",
            "Epoch 13/15, Loss: 0.5648\n",
            "Epoch 14/15, Loss: 0.4993\n",
            "Epoch 15/15, Loss: 0.4507\n",
            "Train Accuracy: 83.27%\n",
            "[[5572    1   33   17   18  195   48    6   30    3]\n",
            " [   0 6539   39   30    0   22    1   15   81   15]\n",
            " [  95  155 4814  283  173   39  196   74  104   25]\n",
            " [  28  118  181 4878    5  388   16  123  347   47]\n",
            " [  14   50   23    0 4672    7  137    5   40  894]\n",
            " [  94   41  103  529   98 3840  208   86  303  119]\n",
            " [  83   37  133    0  116   94 5362    0   93    0]\n",
            " [  34  213   44   12   33   20    0 5424   28  457]\n",
            " [  25  322  105  398  105  238  117   17 4296  228]\n",
            " [  54   70   27   64  679   52   12  377   52 4562]]\n"
          ]
        }
      ]
    },
    {
      "cell_type": "code",
      "source": [
        "import numpy as np\n",
        "import torch\n",
        "import matplotlib.pyplot as plt\n",
        "train_loss_tensor = torch.tensor(train_loss, dtype=torch.float32)\n",
        "plt.figure(figsize=(10, 5))\n",
        "plt.plot(iterations, train_loss_tensor.numpy(), label='Training Loss')\n",
        "# plt.plot(np.arange(0, len(train_loss) * 200, 200), train_loss_tensor.numpy(), label='Test Loss', linestyle='--')\n",
        "plt.xlabel('Iterations')\n",
        "plt.ylabel('Loss')\n",
        "plt.legend()\n",
        "plt.title('Plot of Loss vs Iterations for sigmoid activation function')\n",
        "plt.show()"
      ],
      "metadata": {
        "colab": {
          "base_uri": "https://localhost:8080/",
          "height": 487
        },
        "id": "80YovE16uFTd",
        "outputId": "6ca650c8-c432-4928-cb2c-fb565e1a46ed"
      },
      "execution_count": null,
      "outputs": [
        {
          "output_type": "display_data",
          "data": {
            "text/plain": [
              "<Figure size 1000x500 with 1 Axes>"
            ],
            "image/png": "[encoded data removed]"
          },
          "metadata": {}
        }
      ]
    },
    {
      "cell_type": "code",
      "source": [
        "def test(x):\n",
        "\n",
        "  output = mlp.forward_prop(X_test)\n",
        "  return np.argmax(output, axis=1)\n",
        "\n",
        "y_pred = test(X_test)\n",
        "accuracy = np.mean(np.argmax(y_test, axis=1) == y_pred)\n",
        "print(f\"Test Accuracy: {accuracy * 100:.2f}%\")\n"
      ],
      "metadata": {
        "colab": {
          "base_uri": "https://localhost:8080/"
        },
        "id": "Xrpt_KLcl2eB",
        "outputId": "7489906f-63b0-445f-c1ad-502127ede91e"
      },
      "execution_count": null,
      "outputs": [
        {
          "output_type": "stream",
          "name": "stdout",
          "text": [
            "Test Accuracy: 83.87%\n"
          ]
        }
      ]
    },
    {
      "cell_type": "code",
      "source": [
        " def tanh(x):\n",
        "    return np.tanh(x)\n",
        "\n",
        "def tanh_derivative(x):\n",
        "    return 1 - np.tanh(x)**2"
      ],
      "metadata": {
        "id": "cCDIlm0dl2Sk"
      },
      "execution_count": null,
      "outputs": []
    },
    {
      "cell_type": "code",
      "source": [
        "def relu(x):\n",
        "    return np.maximum(0, x)\n",
        "\n",
        "def relu_derivative(x):\n",
        "    return np.where(x > 0, 1, 0)"
      ],
      "metadata": {
        "id": "dqbyxeRbxEy1"
      },
      "execution_count": null,
      "outputs": []
    },
    {
      "cell_type": "markdown",
      "source": [
        "MLP using ADAM optimizer\n"
      ],
      "metadata": {
        "id": "CZ1rOsdO2xe5"
      }
    },
    {
      "cell_type": "code",
      "source": [
        "import torch\n",
        "import torch.nn as nn\n",
        "import torch.optim as optim\n",
        "import torchvision\n",
        "from torchvision import transforms, datasets\n",
        "import matplotlib.pyplot as plt\n",
        "from sklearn.metrics import classification_report, confusion_matrix\n"
      ],
      "metadata": {
        "id": "FiyYEh5pxEvh"
      },
      "execution_count": null,
      "outputs": []
    },
    {
      "cell_type": "code",
      "source": [
        "learning_rate = 0.01\n",
        "batch_size = 64\n",
        "epochs = 15\n",
        "\n",
        "transform = transforms.Compose([transforms.Grayscale(num_output_channels=1),\n",
        "                               transforms.ToTensor()])\n",
        "\n",
        "train_dataset = datasets.MNIST(root='./data', train=True, transform=transform, download=True)\n",
        "test_dataset = datasets.MNIST(root='./data', train=False, transform=transform, download=True)\n",
        "\n",
        "train_loader = torch.utils.data.DataLoader(train_dataset, batch_size=batch_size, shuffle=True)\n",
        "test_loader = torch.utils.data.DataLoader(test_dataset, batch_size=batch_size, shuffle=False)\n"
      ],
      "metadata": {
        "id": "goc5lCXlxEtV"
      },
      "execution_count": null,
      "outputs": []
    },
    {
      "cell_type": "code",
      "source": [
        "class NeuralNetwork(nn.Module):\n",
        "    def __init__(self):\n",
        "        super(NeuralNetwork, self).__init__()\n",
        "        self.flatten = nn.Flatten()\n",
        "        self.z1 = nn.Linear(28 * 28, 500)\n",
        "        self.z2 = nn.Linear(500, 250)\n",
        "        self.z3 = nn.Linear(250, 100)\n",
        "        self.z4 = nn.Linear(100, 10)\n",
        "\n",
        "    def forward(self, x):\n",
        "        x = self.flatten(x)\n",
        "        x = torch.sigmoid(self.z1(x))\n",
        "        x = torch.sigmoid(self.z2(x))\n",
        "        x = torch.sigmoid(self.z3(x))\n",
        "        x = self.z4(x)\n",
        "        return x\n",
        "\n",
        "model = NeuralNetwork()\n"
      ],
      "metadata": {
        "id": "ezDRHQX7xEpu"
      },
      "execution_count": null,
      "outputs": []
    },
    {
      "cell_type": "code",
      "source": [
        "criterion = nn.CrossEntropyLoss()\n",
        "optimizer = optim.Adam(model.parameters(), lr=learning_rate)\n",
        "\n",
        "train_loss_history = []\n",
        "\n",
        "for epoch in range(epochs):\n",
        "    model.train()\n",
        "    running_loss = 0.0\n",
        "    for images, labels in train_loader:\n",
        "        optimizer.zero_grad()\n",
        "        outputs = model(images)\n",
        "        loss = criterion(outputs, labels)\n",
        "        loss.backward()\n",
        "        optimizer.step()\n",
        "        running_loss += loss.item()\n",
        "    train_loss_history.append(running_loss / len(train_loader))\n",
        "\n",
        "    print(f'Epoch [{epoch + 1}/{epochs}] Loss: {running_loss / len(train_loader):.4f}')\n"
      ],
      "metadata": {
        "colab": {
          "base_uri": "https://localhost:8080/"
        },
        "id": "CNZycAxXxEni",
        "outputId": "ab259f6e-49cc-450f-bf67-2757b2824a87"
      },
      "execution_count": null,
      "outputs": [
        {
          "output_type": "stream",
          "name": "stdout",
          "text": [
            "Epoch [1/15] Loss: 0.3100\n",
            "Epoch [2/15] Loss: 0.1205\n",
            "Epoch [3/15] Loss: 0.0996\n",
            "Epoch [4/15] Loss: 0.0833\n",
            "Epoch [5/15] Loss: 0.0805\n",
            "Epoch [6/15] Loss: 0.0732\n",
            "Epoch [7/15] Loss: 0.0721\n",
            "Epoch [8/15] Loss: 0.0680\n",
            "Epoch [9/15] Loss: 0.0697\n",
            "Epoch [10/15] Loss: 0.0650\n",
            "Epoch [11/15] Loss: 0.0633\n",
            "Epoch [12/15] Loss: 0.0657\n",
            "Epoch [13/15] Loss: 0.0618\n",
            "Epoch [14/15] Loss: 0.0607\n",
            "Epoch [15/15] Loss: 0.0571\n"
          ]
        }
      ]
    },
    {
      "cell_type": "code",
      "source": [
        "model.eval()\n",
        "correct = 0\n",
        "total = 0\n",
        "all_predicted = []\n",
        "all_labels = []\n",
        "\n",
        "with torch.no_grad():\n",
        "    for images, labels in test_loader:\n",
        "        outputs = model(images)\n",
        "        _, predicted = torch.max(outputs.data, 1)\n",
        "        total += labels.size(0)\n",
        "        correct += (predicted == labels).sum().item()\n",
        "        all_predicted.extend(predicted.cpu().numpy())\n",
        "        all_labels.extend(labels.cpu().numpy())\n",
        "\n",
        "test_accuracy = 100 * correct / total\n",
        "print(f'Test Accuracy: {test_accuracy:.2f}%')\n",
        "\n",
        "# Calculate and Display Classification Report\n",
        "target_names = [str(i) for i in range(10)]  # Assuming you have 10 classes\n",
        "print(classification_report(all_labels, all_predicted, target_names=target_names))\n",
        "\n",
        "# Calculate and Display Confusion Matrix\n",
        "conf_matrix = confusion_matrix(all_labels, all_predicted)\n",
        "print(\"Confusion Matrix:\")\n",
        "print(conf_matrix)"
      ],
      "metadata": {
        "colab": {
          "base_uri": "https://localhost:8080/"
        },
        "id": "yJImBmxf6P4X",
        "outputId": "83be7fbf-ee61-4d8b-fa27-d88d83dcc2a9"
      },
      "execution_count": null,
      "outputs": [
        {
          "output_type": "stream",
          "name": "stdout",
          "text": [
            "Test Accuracy: 97.18%\n",
            "              precision    recall  f1-score   support\n",
            "\n",
            "           0       0.98      0.98      0.98       980\n",
            "           1       0.98      0.99      0.99      1135\n",
            "           2       0.97      0.98      0.97      1032\n",
            "           3       0.97      0.96      0.97      1010\n",
            "           4       0.94      0.99      0.96       982\n",
            "           5       0.97      0.97      0.97       892\n",
            "           6       0.98      0.98      0.98       958\n",
            "           7       0.98      0.96      0.97      1028\n",
            "           8       0.97      0.97      0.97       974\n",
            "           9       0.96      0.94      0.95      1009\n",
            "\n",
            "    accuracy                           0.97     10000\n",
            "   macro avg       0.97      0.97      0.97     10000\n",
            "weighted avg       0.97      0.97      0.97     10000\n",
            "\n",
            "Confusion Matrix:\n",
            "[[ 961    0    2    0    5    4    4    1    2    1]\n",
            " [   0 1126    1    1    2    1    3    0    1    0]\n",
            " [   2    2 1012    0    5    2    3    3    3    0]\n",
            " [   0    6   12  974    2    5    0    3    4    4]\n",
            " [   0    0    0    0  969    0    3    1    0    9]\n",
            " [   2    0    1   12    3  863    3    1    4    3]\n",
            " [   5    3    0    0    5    4  939    0    2    0]\n",
            " [   0    6   13    2    6    0    0  985    1   15]\n",
            " [   5    2    5    3    3    6    2    4  941    3]\n",
            " [   2    6    1    7   29    2    1    5    8  948]]\n"
          ]
        }
      ]
    },
    {
      "cell_type": "code",
      "source": [],
      "metadata": {
        "id": "qqPZEekBxEfY"
      },
      "execution_count": null,
      "outputs": []
    },
    {
      "cell_type": "code",
      "source": [],
      "metadata": {
        "id": "Bg6CV7dXxEdf"
      },
      "execution_count": null,
      "outputs": []
    },
    {
      "cell_type": "markdown",
      "source": [
        "************************************************\n"
      ],
      "metadata": {
        "id": "zb2e_m1VxGNg"
      }
    }
  ]
}